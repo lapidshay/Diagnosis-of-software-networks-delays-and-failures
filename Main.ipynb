{
 "cells": [
  {
   "cell_type": "code",
   "execution_count": 1,
   "metadata": {},
   "outputs": [],
   "source": [
    "import networkx as nx\n",
    "from datetime import datetime\n",
    "import numpy as np\n",
    "import random\n",
    "import tqdm as tqdm\n",
    "import pandas as pd\n",
    "from Barinel import *\n",
    "from IPython.display import Image\n",
    "import warnings\n",
    "warnings.filterwarnings('ignore')"
   ]
  },
  {
   "cell_type": "markdown",
   "metadata": {},
   "source": [
    "#### Read file and extract time stamp"
   ]
  },
  {
   "cell_type": "code",
   "execution_count": 2,
   "metadata": {},
   "outputs": [],
   "source": [
    "def extract_time(lines):\n",
    "    # remove all lines until timestamp line, and return time stamp (tuple of integers)\n",
    "    for line in lines:\n",
    "        \n",
    "        # pop first line and split\n",
    "        line_content = txt.pop(0).split('\\t')\n",
    "        \n",
    "        # stop when timestamp line is found\n",
    "        if line_content[0] == 'T':\n",
    "            \n",
    "            time_stamp = (int(line_content[1]) , int(line_content[2].strip('\\n')))\n",
    "            break\n",
    "            \n",
    "    return time_stamp"
   ]
  },
  {
   "cell_type": "code",
   "execution_count": 3,
   "metadata": {},
   "outputs": [],
   "source": [
    "def tup_stmp_to_dates(tup):\n",
    "    return [datetime.utcfromtimestamp(x).strftime('%Y-%m-%d %H:%M:%S') for x in tup]"
   ]
  },
  {
   "cell_type": "markdown",
   "metadata": {},
   "source": [
    "---"
   ]
  },
  {
   "cell_type": "code",
   "execution_count": 4,
   "metadata": {},
   "outputs": [],
   "source": [
    "# enter a path for as links file from CAIDA.\n",
    "# these files could be found in:\n",
    "# http://data.caida.org/datasets/topology/ark/ipv4/as-links/team-1/2019/cycle-aslinks.l7.t1.c007532.20190629.txt.gz\n",
    "file_path = 'data\\\\cycle-aslinks.l7.t1.c007532.20190629.txt'"
   ]
  },
  {
   "cell_type": "code",
   "execution_count": 5,
   "metadata": {},
   "outputs": [
    {
     "name": "stdout",
     "output_type": "stream",
     "text": [
      "File recording times: 2019-06-29 07:15:01 - 2019-06-30 03:46:00\n"
     ]
    }
   ],
   "source": [
    "with open(file_path, 'r') as file:\n",
    "    txt = file.readlines()[:]\n",
    "time_stamp = tup_stmp_to_dates(extract_time(txt))\n",
    "print('File recording times: {} - {}'.format(time_stamp[0], time_stamp[1]))"
   ]
  },
  {
   "cell_type": "markdown",
   "metadata": {},
   "source": [
    "#### Read file, create the graph, and extract largest connected component"
   ]
  },
  {
   "cell_type": "code",
   "execution_count": 6,
   "metadata": {},
   "outputs": [],
   "source": [
    "direct_links = [] # (from, to) tuples key\n",
    "\n",
    "# extract all edges\n",
    "for i, line in enumerate(txt):\n",
    "    if i < 5000:\n",
    "        l = line.strip(\"\\n\").split(\"\\t\")\n",
    "        typ = l.pop(0)\n",
    "        if typ == 'D':\n",
    "            direct_links.append((l[0], l[1]))\n",
    "\n",
    "# subsample 2000\n",
    "direct_links = random.sample(direct_links, 2000)\n",
    "g = nx.Graph()\n",
    "g.add_edges_from(direct_links)"
   ]
  },
  {
   "cell_type": "code",
   "execution_count": 7,
   "metadata": {},
   "outputs": [
    {
     "name": "stdout",
     "output_type": "stream",
     "text": [
      "org_graph: num. nodes: 1898 ;   num. edges: 1990\n",
      "conn_comp: num. nodes: 1548 ;   num. edges: 1735\n"
     ]
    }
   ],
   "source": [
    "max_conn_comp = max([g.subgraph(c) for c in nx.connected_components(g)], key = lambda x: len(x.nodes))\n",
    "print(f'org_graph: num. nodes: {len(g.nodes())} ;   num. edges: {len(g.edges())}')\n",
    "print(f'conn_comp: num. nodes: {len(max_conn_comp.nodes())} ;   num. edges: {len(max_conn_comp.edges())}')"
   ]
  },
  {
   "cell_type": "markdown",
   "metadata": {},
   "source": [
    "#### random error injection"
   ]
  },
  {
   "cell_type": "code",
   "execution_count": 8,
   "metadata": {},
   "outputs": [
    {
     "name": "stdout",
     "output_type": "stream",
     "text": [
      "Normal components: 1450 ;   Abnormal components: 98\n"
     ]
    }
   ],
   "source": [
    "#mu, sigma = -0.6, 0.87 # mean and standard deviation. numbers for 10% error\n",
    "mu, sigma = -0.5,0.62 # mean and standard deviation. numbers for 5% error\n",
    "\n",
    "# random error addition according to distribution\n",
    "s = (np.random.normal(mu, sigma, len(max_conn_comp.nodes())))\n",
    "\n",
    "# clipping between 0.5 and 2\n",
    "s[np.where(s<0.5)]=0\n",
    "s[np.where(s>2)]=2\n",
    "\n",
    "print(f'Normal components: {len(s[np.where(s==0)])} ;   Abnormal components: {len(s[np.where(s!=0)])}')"
   ]
  },
  {
   "cell_type": "code",
   "execution_count": 9,
   "metadata": {},
   "outputs": [],
   "source": [
    "# setting node latency as node attribute\n",
    "node_weights = {node: {'latency': lat} for node, lat in zip(max_conn_comp.nodes(), s)}\n",
    "nx.set_node_attributes(max_conn_comp, node_weights)\n",
    "\n",
    "# create a global dictionary to hild latency\n",
    "latency = nx.get_node_attributes(max_conn_comp, 'latency')"
   ]
  },
  {
   "cell_type": "markdown",
   "metadata": {},
   "source": [
    "#### save the graph for external use"
   ]
  },
  {
   "cell_type": "code",
   "execution_count": 10,
   "metadata": {},
   "outputs": [],
   "source": [
    "nx.write_gml(max_conn_comp, 'internet.gml')"
   ]
  },
  {
   "cell_type": "markdown",
   "metadata": {},
   "source": [
    "<img src=\"md_data/2000_nodes.png\"/>"
   ]
  },
  {
   "cell_type": "markdown",
   "metadata": {},
   "source": [
    "#### random subgraph generation"
   ]
  },
  {
   "cell_type": "code",
   "execution_count": 11,
   "metadata": {},
   "outputs": [],
   "source": [
    "def sort_by_degree(graph, reverse=True):\n",
    "    # sort nodes by degree\n",
    "    return sorted(list(graph.degree()), key = lambda x: x[1], reverse=reverse)"
   ]
  },
  {
   "cell_type": "code",
   "execution_count": 12,
   "metadata": {},
   "outputs": [],
   "source": [
    "def choose_random_main_nodes(node_list, top_k_degree, num_choices):\n",
    "    return random.sample([x[0] for x in node_list[:top_k_degree]], num_choices)"
   ]
  },
  {
   "cell_type": "code",
   "execution_count": 13,
   "metadata": {},
   "outputs": [],
   "source": [
    "def generate_sub_graph(connected_component, top_k_degree=10, num_choices=4, num_end_nodes=2):\n",
    "    \n",
    "    # sort nodes by degree\n",
    "    deg_list = sort_by_degree(connected_component)\n",
    "\n",
    "    # sample nodes from most central nodes\n",
    "    sub_graph_main_nodes = choose_random_main_nodes(deg_list, top_k_degree, num_choices)\n",
    "\n",
    "    # extend nodes selection by a-star paths between important nodes\n",
    "    connecting_nodes = []\n",
    "    for n_1 in sub_graph_main_nodes:\n",
    "        for n_2 in sub_graph_main_nodes:\n",
    "            if n_1 == n_2:\n",
    "                continue\n",
    "            connecting_nodes += nx.astar_path(max_conn_comp, n_1, n_2)\n",
    "\n",
    "    # extend nodes selection by choosing 2 random nodes which are connected to main nodes\n",
    "    end_nodes = []\n",
    "    for n in sub_graph_main_nodes:\n",
    "        end_nodes += random.sample(list(max_conn_comp[n]),num_end_nodes)\n",
    "\n",
    "    # putting it all together\n",
    "    sub_graph_nodes = set(sub_graph_main_nodes + connecting_nodes + end_nodes)\n",
    "    \n",
    "    return connected_component.subgraph(sub_graph_nodes)"
   ]
  },
  {
   "cell_type": "markdown",
   "metadata": {},
   "source": [
    "---"
   ]
  },
  {
   "cell_type": "code",
   "execution_count": 14,
   "metadata": {},
   "outputs": [],
   "source": [
    "g_1 = generate_sub_graph(max_conn_comp, 10, 3, 4)"
   ]
  },
  {
   "cell_type": "code",
   "execution_count": 30,
   "metadata": {},
   "outputs": [
    {
     "data": {
      "image/png": "[encoded data removed]",
      "text/plain": [
       "<Figure size 432x288 with 1 Axes>"
      ]
     },
     "metadata": {},
     "output_type": "display_data"
    }
   ],
   "source": [
    "nx.draw(g_1)"
   ]
  },
  {
   "cell_type": "code",
   "execution_count": 16,
   "metadata": {},
   "outputs": [
    {
     "name": "stdout",
     "output_type": "stream",
     "text": [
      "Unique components: 17 ;   Abnormal components: ['11164', '29825']\n"
     ]
    }
   ],
   "source": [
    "print(f'Unique components: {len(g_1.nodes)} ;   Abnormal components: {[node for node in g_1.nodes if latency[node]>0]}')"
   ]
  },
  {
   "cell_type": "code",
   "execution_count": 17,
   "metadata": {},
   "outputs": [],
   "source": [
    "nx.write_gml(g_1, 'internet_small.gml')"
   ]
  },
  {
   "cell_type": "markdown",
   "metadata": {},
   "source": [
    "#### create data"
   ]
  },
  {
   "cell_type": "code",
   "execution_count": 18,
   "metadata": {},
   "outputs": [],
   "source": [
    "def generate_random_paths(graph, num_paths):\n",
    "    # choose num_paths random paths from graph\n",
    "    return random.sample([nx.astar_path(graph, n_1, n_2) for n_1 in graph for n_2 in graph if n_1!=n_2], num_paths)"
   ]
  },
  {
   "cell_type": "code",
   "execution_count": 19,
   "metadata": {},
   "outputs": [],
   "source": [
    "def path_weight(graph, path):\n",
    "    # calculate accumlated latency for each path\n",
    "    latency = nx.get_node_attributes(graph, 'latency')\n",
    "    return sum([latency[node] for node in path])"
   ]
  },
  {
   "cell_type": "code",
   "execution_count": 20,
   "metadata": {},
   "outputs": [],
   "source": [
    "def spectrum_matrix(paths):\n",
    "    # set of all components invloved in all paths\n",
    "    all_nodes = list({comp for path in paths for comp in path})\n",
    "    \n",
    "    # instantiate a spectral matrix\n",
    "    spectra = np.zeros((len(paths), len(all_nodes)), dtype=np.int8)\n",
    "    \n",
    "    # mark 1 in all matrix entries where comp (column) participated in path (row)\n",
    "    for row, path in enumerate(paths):\n",
    "        for comp in path:\n",
    "            spectra[row, all_nodes.index(comp)] = 1\n",
    "            \n",
    "    return spectra, all_nodes"
   ]
  },
  {
   "cell_type": "code",
   "execution_count": 21,
   "metadata": {},
   "outputs": [],
   "source": [
    "def error_standartize(vector, upper=1, lower=0.2):\n",
    "    indices = np.where(vector>0)\n",
    "    max_er = np.max(vector[indices])\n",
    "    min_er = np.min(vector[indices])\n",
    "    output =(vector - min_er)/(max_er - min_er) * (upper-lower) +lower\n",
    "    output[np.where(output<0)]=0\n",
    "    return output"
   ]
  },
  {
   "cell_type": "code",
   "execution_count": 22,
   "metadata": {},
   "outputs": [],
   "source": [
    "def comps_summary(unique_comps):\n",
    "    unique_comps_map = {f'c{i+1}': {'comp': comp, 'latency': latency[comp]} for i, comp in enumerate(unique_comps)}\n",
    "    erroneous_comps = [item[0] for item in unique_comps_map.items()  if item[1]['latency']>0]\n",
    "    return len(unique_comps_map), unique_comps_map, len(erroneous_comps), erroneous_comps"
   ]
  },
  {
   "cell_type": "code",
   "execution_count": 23,
   "metadata": {},
   "outputs": [],
   "source": [
    "def generate_all_paths(graph, remove_obvious=False):\n",
    "    erroneous_nodes = set([node for node in g_1.nodes if latency[node]>0])\n",
    "    num_erroneous = len(erroneous_nodes)\n",
    "    \n",
    "    paths = []\n",
    "    for n_1 in graph:\n",
    "        for n_2 in graph:\n",
    "            if n_1 == n_2:\n",
    "                continue\n",
    "            paths += nx.all_simple_paths(graph, n_1, n_2)\n",
    "            \n",
    "    # remove paths which contain all erroneous components (which is the easy solution)\n",
    "    if remove_obvious:\n",
    "        paths = [path for path in paths if not erroneous_nodes.issubset(set(path))]        \n",
    "    return paths "
   ]
  },
  {
   "cell_type": "markdown",
   "metadata": {},
   "source": [
    "#### evaluation"
   ]
  },
  {
   "cell_type": "code",
   "execution_count": 24,
   "metadata": {},
   "outputs": [],
   "source": [
    "def crispify(vec, thresh):\n",
    "    # return a vector of 0's and 1's, determined by crisp threshold\n",
    "    crisp_error_vec = np.zeros(vec.shape)\n",
    "    crisp_error_vec[np.where(vec>=thresh)[0]] = 1\n",
    "    return crisp_error_vec"
   ]
  },
  {
   "cell_type": "code",
   "execution_count": 25,
   "metadata": {},
   "outputs": [],
   "source": [
    "def crisp_barinel_diagnoses(mat, vec, stac_diags, thresholds, verbose=False):\n",
    "    crisp_error_vectors, ranked_diagnoses = [], []\n",
    "    diagnoses_output = []\n",
    "    \n",
    "    for thresh in thresholds:\n",
    "        \n",
    "        crisp_error_vec = crispify(vec, thresh)\n",
    "        ranked_diags = barinel(mat, crisp_error_vec, stac_diags)\n",
    "        \n",
    "        crisp_error_vectors.append(crisp_error_vec)  # used to build matrix again. mainly for development\n",
    "        \n",
    "        ranked_diags = [diag[0] for diag in ranked_diags]  # remove probabilites\n",
    "        ranked_diagnoses.append(ranked_diags)\n",
    "        \n",
    "        if verbose:\n",
    "            print(f'Threshold {thresh}:')\n",
    "            print(ranked_diags[:5])\n",
    "            \n",
    "    return crisp_error_vectors, ranked_diagnoses"
   ]
  },
  {
   "cell_type": "code",
   "execution_count": 26,
   "metadata": {},
   "outputs": [],
   "source": [
    "all_paths = generate_all_paths(g_1, remove_obvious=True)"
   ]
  },
  {
   "cell_type": "code",
   "execution_count": 27,
   "metadata": {},
   "outputs": [],
   "source": [
    "threshes = [0.2, 0.4, 0.6, 0.8, 1.0]"
   ]
  },
  {
   "cell_type": "code",
   "execution_count": 28,
   "metadata": {},
   "outputs": [],
   "source": [
    "res = []\n",
    "i=0\n",
    "\n",
    "# evaluate over 50 random selections of paths within the dataset. it might take a few minutes\n",
    "while i < 10:\n",
    "    # generate 10 paths, and spectra matrix\n",
    "    paths = random.sample(all_paths, 10)\n",
    "    mat, unique_comps = spectrum_matrix(paths)\n",
    "\n",
    "    # generate error vector\n",
    "    path_weights = [path_weight(g_1, path) for path in paths]\n",
    "    error = np.array(path_weights).reshape(-1,1)\n",
    "    vec = error_standartize(error).reshape(-1,1)\n",
    "\n",
    "    num_unique, unique_comps_map ,num_err, erroneous_comps = comps_summary(unique_comps)\n",
    "    erroneous_comps_for_eval = tuple(int(c[1:])-1 for c in erroneous_comps)  # create a tuple of correct diagnosis\n",
    "    \n",
    "    stac_diags = staccato(mat, vec)\n",
    "\n",
    "    fuzzy_ranked_diags = barinel(mat, vec, stac_diags)\n",
    "    fuzzy_ranked_diags_for_eval = [diag[0] for diag in fuzzy_ranked_diags]\n",
    "    \n",
    "    # rank diagnoses with crisp thresholds\n",
    "    _, ranked_diagnoses = crisp_barinel_diagnoses(mat, vec, stac_diags, thresholds = threshes, verbose=False)\n",
    "    \n",
    "    # concat fuzzy and crisp barniel results to one list\n",
    "    ranked_diagnoses = [fuzzy_ranked_diags_for_eval] + ranked_diagnoses\n",
    "    \n",
    "    # compute wasted error\n",
    "    try:\n",
    "        res.append(np.array([rd.index(erroneous_comps_for_eval) for rd in ranked_diagnoses]))\n",
    "        i+=1\n",
    "    except:\n",
    "        pass"
   ]
  },
  {
   "cell_type": "code",
   "execution_count": 29,
   "metadata": {},
   "outputs": [
    {
     "name": "stdout",
     "output_type": "stream",
     "text": [
      "[0.0, 1.2, 0.0, 0.0, 0.0, 0.0]\n"
     ]
    }
   ],
   "source": [
    "# calculate and print average wasted effort\n",
    "print([(i[0]) for i in np.mean(res, axis=0).reshape(-1,1)])"
   ]
  }
 ],
 "metadata": {
  "kernelspec": {
   "display_name": "Python 3",
   "language": "python",
   "name": "python3"
  },
  "language_info": {
   "codemirror_mode": {
    "name": "ipython",
    "version": 3
   },
   "file_extension": ".py",
   "mimetype": "text/x-python",
   "name": "python",
   "nbconvert_exporter": "python",
   "pygments_lexer": "ipython3",
   "version": "3.6.3"
  }
 },
 "nbformat": 4,
 "nbformat_minor": 2
}
